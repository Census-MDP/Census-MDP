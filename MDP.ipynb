{
 "cells": [
  {
   "cell_type": "code",
   "execution_count": null,
   "metadata": {},
   "outputs": [],
   "source": [
    "using POMDPs, QuickPOMDPs, POMDPModelTools, POMDPSimulators, QMDP"
   ]
  },
  {
   "cell_type": "code",
   "execution_count": null,
   "metadata": {},
   "outputs": [],
   "source": [
    "# tracts\n",
    "# demographics of every tract"
   ]
  },
  {
   "cell_type": "code",
   "execution_count": null,
   "metadata": {},
   "outputs": [],
   "source": [
    "# probability of self-reporting increase per tract, based on demographics of tract"
   ]
  },
  {
   "cell_type": "code",
   "execution_count": null,
   "metadata": {},
   "outputs": [],
   "source": [
    "# probability of a visit increasing percentage in that tract -> fixed mean + stddev based on demographics"
   ]
  },
  {
   "cell_type": "code",
   "execution_count": null,
   "metadata": {},
   "outputs": [],
   "source": [
    "# cost of visiting = -10  (-c)"
   ]
  },
  {
   "cell_type": "code",
   "execution_count": null,
   "metadata": {},
   "outputs": [],
   "source": [
    "# reward at finish = a * avg(percent_completion) + b * stdev(percent_completion_of_each_demographic_group)"
   ]
  },
  {
   "cell_type": "code",
   "execution_count": null,
   "metadata": {},
   "outputs": [],
   "source": [
    "m = QuickPOMDP(\n",
    "    # n tracts, m percentage\n",
    "    # states = t, all combinations of completion percentages discretized -> t * n^m\n",
    "    # actions = census tract to visit,  # [\"left\", \"right\", \"listen\"],\n",
    "    # reward(nonterminalstate, action, sp) = if action == skip: return 0 else: return -10,\n",
    "    # reward(terminalstate, action, sp) = percent completion, representativeness\n",
    "    \n",
    "    # observations = [\"left\", \"right\"],\n",
    "    initialstate = Uniform([\"left\", \"right\"]),\n",
    "    discount = 1.0,\n",
    "\n",
    "    transition = function (s, a)\n",
    "        if a == \"listen\"\n",
    "            return Deterministic(s) # tiger stays behind the same door\n",
    "        else # a door is opened\n",
    "            return Uniform([\"left\", \"right\"]) # reset\n",
    "        end\n",
    "    end,\n",
    "\n",
    "    # observation = function (s, a, sp)\n",
    "    #     if a == \"listen\"\n",
    "    #         if sp == \"left\"\n",
    "    #             return SparseCat([\"left\", \"right\"], [0.85, 0.15]) # sparse categorical distribution\n",
    "    #         else\n",
    "    #             return SparseCat([\"right\", \"left\"], [0.85, 0.15])\n",
    "    #         end\n",
    "    #     else\n",
    "    #         return Uniform([\"left\", \"right\"])\n",
    "    #     end\n",
    "    # end,\n",
    "\n",
    "    reward = function (s, a)\n",
    "        if a == \"listen\"\n",
    "            return -1.0\n",
    "        elseif s == a # the tiger was found\n",
    "            return -100.0\n",
    "        else # the tiger was escaped\n",
    "            return 10.0\n",
    "        end\n",
    "    end\n",
    ")\n",
    "\n",
    "solver = QMDPSolver()\n",
    "policy = solve(solver, m)\n",
    "\n",
    "rsum = 0.0\n",
    "for (s,b,a,o,r) in stepthrough(m, policy, \"s,b,a,o,r\", max_steps=10)\n",
    "    println(\"s: $s, b: $([pdf(b,s) for s in states(m)]), a: $a, o: $o\")\n",
    "    global rsum += r\n",
    "end\n",
    "println(\"Undiscounted reward was $rsum.\")"
   ]
  },
  {
   "cell_type": "code",
   "execution_count": null,
   "metadata": {},
   "outputs": [],
   "source": []
  }
 ],
 "metadata": {
  "kernelspec": {
   "display_name": "Julia 1.5.2",
   "language": "julia",
   "name": "julia-1.5"
  },
  "language_info": {
   "file_extension": ".jl",
   "mimetype": "application/julia",
   "name": "julia",
   "version": "1.5.2"
  }
 },
 "nbformat": 4,
 "nbformat_minor": 4
}
