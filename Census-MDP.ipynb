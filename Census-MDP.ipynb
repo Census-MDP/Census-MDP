{
 "cells": [
  {
   "cell_type": "code",
   "execution_count": null,
   "metadata": {},
   "outputs": [],
   "source": [
    "using Pkg;\n",
    "# Pkg.add(\"Distributions\")\n",
    "# Pkg.add(\"Random\")\n",
    "# Pkg.add(\"POMDPs\")\n",
    "# Pkg.add(\"QuickPOMDPs\")\n",
    "# Pkg.add(\"POMDPModelTools\")\n",
    "# Pkg.add(\"POMDPModels\")\n",
    "# Pkg.add(\"POMDPSimulators\")\n",
    "# Pkg.add(\"POMDPGifs\")\n",
    "# Pkg.add(\"QMDP\")\n",
    "# Pkg.add(\"CSV\")\n",
    "# Pkg.add(\"DataFrames\")\n",
    "# Pkg.add(\"LocalApproximationValueIteration\")\n",
    "# Pkg.add(\"GridInterpolations\")\n",
    "# Pkg.add(\"LocalFunctionApproximation\")\n",
    "# Pkg.add(\"StaticArrays\")\n",
    "# Pkg.add(\"PyPlot\")\n",
    "# Pkg.add(\"PyCall\")\n",
    "# Pkg.add(\"Reel\")\n",
    "# Pkg.add(\"TextWrap\")"
   ]
  },
  {
   "cell_type": "code",
   "execution_count": null,
   "metadata": {},
   "outputs": [],
   "source": [
    "using Random, Distributions, LinearAlgebra, StaticArrays, Statistics;\n",
    "using CSV, DataFrames;\n",
    "using POMDPs, QuickPOMDPs, POMDPModelTools, POMDPSimulators, POMDPModels, MCTS, POMDPGifs;\n",
    "using GridInterpolations;\n",
    "using LocalFunctionApproximation;\n",
    "using LocalApproximationValueIteration;\n",
    "using PyPlot, PyCall, Reel, TextWrap;\n",
    "@pyimport matplotlib.patches as patches"
   ]
  },
  {
   "cell_type": "code",
   "execution_count": null,
   "metadata": {},
   "outputs": [],
   "source": [
    "# Start by loading the data.\n",
    "populations = DataFrame(CSV.File(\"data/populations.csv\"));\n",
    "self_reporting_distributions = DataFrame(CSV.File(\"data/distributions.csv\"));\n",
    "demographics = DataFrame(CSV.File(\"data/indicators.csv\"));"
   ]
  },
  {
   "cell_type": "code",
   "execution_count": null,
   "metadata": {},
   "outputs": [],
   "source": [
    "# Join the dataframes by state.\n",
    "tract_data = innerjoin(populations, self_reporting_distributions, on=:STATE => :state);\n",
    "tract_data = innerjoin(tract_data, demographics, on=:STATE => :id);"
   ]
  },
  {
   "cell_type": "code",
   "execution_count": null,
   "metadata": {},
   "outputs": [],
   "source": [
    "# Drop the households column (we have a separate population column).\n",
    "select!(tract_data, Not(12));"
   ]
  },
  {
   "cell_type": "code",
   "execution_count": null,
   "metadata": {},
   "outputs": [],
   "source": [
    "# Dividing each timestep in input data.\n",
    "timestep_divisor = 2;"
   ]
  },
  {
   "cell_type": "code",
   "execution_count": null,
   "metadata": {},
   "outputs": [],
   "source": [
    "# Get vectors from data.\n",
    "tracts_populations = tract_data[\"POPESTIMATE2019\"];\n",
    "self_reporting_means_start = tract_data[\"mu1\"] / (100.0 * timestep_divisor);\n",
    "self_reporting_stdevs_start = tract_data[\"std1\"] / (100.0 * timestep_divisor);\n",
    "self_reporting_means_end = tract_data[\"mu2\"] / (100.0 * timestep_divisor);\n",
    "self_reporting_stdevs_end = tract_data[\"std2\"] / (100.0 * timestep_divisor);\n",
    "demographic_start_col = 10;\n",
    "tracts_demographics = convert(Array{Float64, 2}, tract_data[:, demographic_start_col:end]);\n",
    "n_tracts = length(tracts_populations);\n",
    "n_demographics = size(tracts_demographics)[2];"
   ]
  },
  {
   "cell_type": "code",
   "execution_count": null,
   "metadata": {},
   "outputs": [],
   "source": [
    "# Total timesteps to allow.\n",
    "total_timesteps = 28 * timestep_divisor;\n",
    "\n",
    "# We fit two distributions to our data based on whether or not\n",
    "# the timestamp is within the first 7 weeks. This is to\n",
    "# accommodate an inflection point on the 7th week.\n",
    "distribution_switch_timestep = 7 * timestep_divisor;\n",
    "\n",
    "# We run up to a few more iterations to see that the terminal step math works.\n",
    "iterate_timesteps = total_timesteps + 5;"
   ]
  },
  {
   "cell_type": "code",
   "execution_count": null,
   "metadata": {},
   "outputs": [],
   "source": [
    "# probability of a visit increasing percentage in that tract -> fixed mean + stddev\n",
    "visit_distribution_mean = 0.1;\n",
    "visit_distribution_stdev = 0.05;"
   ]
  },
  {
   "cell_type": "code",
   "execution_count": null,
   "metadata": {},
   "outputs": [],
   "source": [
    "# Take a step from state s with action a, applying self-reporting and visit increases.\n",
    "function random_step(rng, s, a)\n",
    "    time = s[1]\n",
    "    tract_percentages = copy(s[2:end])\n",
    "           \n",
    "    self_reporting_means = (time <= distribution_switch_timestep) ? self_reporting_means_start : self_reporting_means_end;\n",
    "    self_reporting_stdevs = (time <= distribution_switch_timestep) ? self_reporting_stdevs_start : self_reporting_stdevs_end;\n",
    "    transition_means = self_reporting_means + tract_percentages;\n",
    "    transition_stdevs = copy(self_reporting_stdevs);\n",
    "    \n",
    "    if a != 0\n",
    "        # Apply the self-reporting increases to the means/stdevs.\n",
    "        # Note that adding distributions required adding variances (stdev ^ 2).\n",
    "        # and not stdevs directly.\n",
    "        transition_means[a] += visit_distribution_mean;\n",
    "        transition_stdevs[a] = sqrt((transition_stdevs[a] ^ 2) + (visit_distribution_stdev ^ 2));\n",
    "    end\n",
    "    \n",
    "    # Step the tracts.\n",
    "    for i in 1:n_tracts\n",
    "        if tract_percentages[i] < 1.0\n",
    "            tract_percentages[i] = Base.rand(rng, TruncatedNormal(transition_means[i], transition_stdevs[i], tract_percentages[i], 1.0));\n",
    "        end\n",
    "    end\n",
    "    \n",
    "    return [time + 1; tract_percentages];\n",
    "end;"
   ]
  },
  {
   "cell_type": "code",
   "execution_count": null,
   "metadata": {},
   "outputs": [],
   "source": [
    "# Define a fixed cost for visits.\n",
    "fixed_visit_cost = -0.01;"
   ]
  },
  {
   "cell_type": "code",
   "execution_count": null,
   "metadata": {},
   "outputs": [],
   "source": [
    "function get_demographic_means(tract_percentages)\n",
    "    people_counted_per_tract = tract_percentages .* tracts_populations;\n",
    "    return sum(people_counted_per_tract .* tracts_demographics, dims=1) ./ sum(people_counted_per_tract);\n",
    "end;"
   ]
  },
  {
   "cell_type": "code",
   "execution_count": null,
   "metadata": {},
   "outputs": [],
   "source": [
    "# Define the final reward using both the population and demographic terms.\n",
    "function reward_final_fn(tract_percentages)  \n",
    "    # Constants\n",
    "    weight_demographics = ones(n_demographics); # TODO: Assign reasonable weights here.\n",
    "    \n",
    "    # Get the total number of people covered\n",
    "    people_counted_per_tract = tract_percentages .* tracts_populations;\n",
    "    people_counted_fraction = sum(people_counted_per_tract) / sum(tracts_populations);\n",
    "    \n",
    "    # Get the total value of each demographic if the whole population was counted\n",
    "    demographic_counts_total = get_demographic_means(ones(n_tracts));\n",
    "    \n",
    "    # Get the total value of each demographic that was counted\n",
    "    demographic_counts_counted = get_demographic_means(tract_percentages) ./ demographic_counts_total;\n",
    "    \n",
    "    # Get the difference between our counts and the total\n",
    "    diff_demographic_counts = abs.(1 .- demographic_counts_counted);\n",
    "    diff_demographic_counts_weighted_sum = dot(weight_demographics, diff_demographic_counts);\n",
    "    \n",
    "    return people_counted_fraction + diff_demographic_counts_weighted_sum;\n",
    "end;\n",
    "\n",
    "# Define our reward function using fixed visit cost & final state reward.\n",
    "function reward_fn(s, a)\n",
    "    time = s[1]\n",
    "    tract_percentages = s[2:end]\n",
    "    \n",
    "    # If we've reached the end time.\n",
    "    if time == total_timesteps - 1\n",
    "        return reward_final_fn(tract_percentages);\n",
    "    end\n",
    "    \n",
    "    # If the action is not making a visit.\n",
    "    if a == 0\n",
    "        return 0;\n",
    "    end\n",
    "    \n",
    "    return fixed_visit_cost;\n",
    "end;"
   ]
  },
  {
   "cell_type": "code",
   "execution_count": null,
   "metadata": {},
   "outputs": [],
   "source": [
    "# Our initial state should have time t = 1, and every tract at 0 percent.\n",
    "initial_state = Deterministic([0; [0.0 for _ in 1:n_tracts]]);"
   ]
  },
  {
   "cell_type": "code",
   "execution_count": null,
   "metadata": {},
   "outputs": [],
   "source": [
    "# Our actions are 0 for no visits and i for visiting the ith tract.\n",
    "actions = collect(0:0);"
   ]
  },
  {
   "cell_type": "code",
   "execution_count": null,
   "metadata": {},
   "outputs": [],
   "source": [
    "# Define our terminal state.\n",
    "function is_terminal_fn(s)\n",
    "   return s[1] >= total_timesteps;\n",
    "end;"
   ]
  },
  {
   "cell_type": "code",
   "execution_count": null,
   "metadata": {},
   "outputs": [],
   "source": [
    "# Define functions to render MDP state as a bar chart.\n",
    "function render_sa(s, a)\n",
    "    percentages = s[2:end];\n",
    "    time_step = s[1];\n",
    "    f = figure(figsize=(10,5), dpi=300);\n",
    "    plt.style.use(\"grayscale\")\n",
    "    # TODO: update axis as percentages approach 1\n",
    "    ylim(0,100);\n",
    "    tracts = collect(1:n_tracts);\n",
    "    colors = [i == a ? \"C0\" : \"C1\" for i in tracts];\n",
    "    bar(tracts, percentages * 100, color=colors, align=\"center\", width=1); # tighten space with using width when graph gets bigger\n",
    "    draw()\n",
    "\n",
    "    xticks(tracts, tract_data[\"SHORTNAME\"], rotation=90);\n",
    "    xlabel(\"Tracts\");\n",
    "    ylabel(\"% Response\");\n",
    "\n",
    "    human_time_step = convert(Int, time_step + 1);\n",
    "    visited = a != 0 ? tract_data[\"SHORTNAME\"][a] : nothing;\n",
    "    title(\"\"\"Time step $human_time_step / $total_timesteps: $(a == 0 ? \"no visit\" : \"visit $visited\")\"\"\");\n",
    "    return f;\n",
    "end;\n",
    "\n",
    "function render_fn(step)\n",
    "  render_sa(step.s, step.a);\n",
    "end;"
   ]
  },
  {
   "cell_type": "code",
   "execution_count": null,
   "metadata": {},
   "outputs": [],
   "source": [
    "# Now we can define our MDP.\n",
    "mdp = QuickMDP(\n",
    "    gen = (s, a, rng) -> (sp=random_step(rng, s, a), r=reward_fn(s, a)),\n",
    "    actions = actions,\n",
    "    initialstate = initial_state,\n",
    "    isterminal = is_terminal_fn,\n",
    "    render = render_fn,\n",
    ");"
   ]
  },
  {
   "cell_type": "code",
   "execution_count": null,
   "metadata": {},
   "outputs": [],
   "source": [
    "# Create an MCTS solver.\n",
    "solver = MCTSSolver(n_iterations=10000, depth=iterate_timesteps, exploration_constant=5.0);"
   ]
  },
  {
   "cell_type": "code",
   "execution_count": null,
   "metadata": {},
   "outputs": [],
   "source": [
    "# Learn our policy.\n",
    "policy = solve(solver, mdp);"
   ]
  },
  {
   "cell_type": "code",
   "execution_count": null,
   "metadata": {},
   "outputs": [],
   "source": [
    "# Simulate our policy and save process as GIF\n",
    "frames = Frames(MIME(\"image/png\"), fps=2)\n",
    "rsum = 0.0\n",
    "final_state = nothing;\n",
    "for (s,a,r) in stepthrough(mdp, policy, \"s,a,r\", max_steps=iterate_timesteps)\n",
    "    println(\"s: $s, a: $a\")\n",
    "    push!(frames, render_sa(s, a));\n",
    "    global rsum += r;\n",
    "    global final_state = s;\n",
    "end\n",
    "println(\"Undiscounted reward was $rsum.\")\n",
    "println()\n",
    "write(\"./outputs/stepthrough.gif\", frames)"
   ]
  },
  {
   "cell_type": "code",
   "execution_count": null,
   "metadata": {},
   "outputs": [],
   "source": [
    "# Plot demographic comparison of two different states.\n",
    "function plot_demographics(s_no_demo, s_w_demo)\n",
    "    plt.style.use(\"grayscale\")\n",
    "    \n",
    "    p_no_demo = s_no_demo[2:end];\n",
    "    p_w_demo = s_w_demo[2:end];\n",
    "    p_full = ones(n_tracts);\n",
    "    \n",
    "    m_full = vec(get_demographic_means(p_full));\n",
    "    m_no_demo = vec(get_demographic_means(p_no_demo)) ./ m_full;\n",
    "    m_w_demo = vec(get_demographic_means(p_w_demo)) ./ m_full;\n",
    "    \n",
    "    f = figure(figsize=(10,5), dpi=300);\n",
    "    # ylim(0.0, 1.1);\n",
    "    demographics = collect(1:n_demographics);\n",
    "    # bar(tracts, percentages * 100, color=colors, align=\"center\", width=1); # tighten space with using width when graph gets bigger\n",
    "    plot(demographics, m_no_demo, linestyle=\":\", label=\"Sample mean with population-based reward\");\n",
    "    plot(demographics, m_w_demo, linestyle=\"--\", label=\"Sample mean with demographics-based reward\");\n",
    "    plot(demographics, ones(n_demographics), linestyle=\"-\", label=\"Population mean\");\n",
    "    x_labels = [wrap(x, width=20) for x in names(tract_data)[demographic_start_col:end]]\n",
    "    xticks(demographics, x_labels);\n",
    "    ylabel(\"Ratio of sample mean to population mean\");\n",
    "    title(\"Comparison of demographics' sample mean to population mean\");\n",
    "    legend()\n",
    "    return f;\n",
    "end;"
   ]
  },
  {
   "cell_type": "code",
   "execution_count": null,
   "metadata": {},
   "outputs": [],
   "source": [
    "plot_demographics(pop_state, dem_state);"
   ]
  }
 ],
 "metadata": {
  "kernelspec": {
   "display_name": "Julia 1.5.2",
   "language": "julia",
   "name": "julia-1.5"
  },
  "language_info": {
   "file_extension": ".jl",
   "mimetype": "application/julia",
   "name": "julia",
   "version": "1.5.2"
  }
 },
 "nbformat": 4,
 "nbformat_minor": 4
}
